{
 "cells": [
  {
   "cell_type": "code",
   "execution_count": 2,
   "metadata": {},
   "outputs": [],
   "source": [
    "import pandas as pd\n",
    "import glob\n",
    "\n",
    "import matplotlib.pyplot as plt\n",
    "\n",
    "\n",
    "import seaborn as sns\n",
    "\n",
    "import datetime\n",
    "import numpy as np\n",
    "\n",
    "from helper import read_files\n",
    "\n",
    "files = glob.glob(\"data/*.csv\")\n",
    "\n",
    "columns = ['sku', 'brand', 'cat', 'bill', 'store', 'date', 'type', 'mrp', 'price', 'qty']\n",
    "\n",
    "df_dict = read_files(files, columns)\n",
    "\n",
    "df = pd.concat(df for df in df_dict.values())\n",
    "\n",
    "df['store'] = df['store'].apply(lambda x: x[-1])"
   ]
  },
  {
   "cell_type": "code",
   "execution_count": 3,
   "metadata": {},
   "outputs": [],
   "source": [
    "# Only subset Store 5 data\n",
    "\n",
    "df = df[df['store'] == '5']\n",
    "\n",
    "df = df.sort_values(by='date').reset_index()"
   ]
  },
  {
   "cell_type": "code",
   "execution_count": 4,
   "metadata": {},
   "outputs": [],
   "source": [
    "df.loc[df['brand'].isnull(), 'brand'] = 'UnkBRAND'\n",
    "\n",
    "df.loc[df['cat'].isnull(), 'cat'] = 'UnkCAT'"
   ]
  },
  {
   "cell_type": "code",
   "execution_count": 5,
   "metadata": {},
   "outputs": [],
   "source": [
    "df['date'] = pd.to_datetime(df['date'])\n",
    "\n",
    "df['day'] = pd.DatetimeIndex(df['date']).day\n",
    "\n",
    "df['month'] = pd.DatetimeIndex(df['date']).month_name()\n",
    "\n",
    "df['month_year'] = df.date.dt.to_period('M')\n",
    "\n",
    "df['dayofweek'] = pd.DatetimeIndex(df['date']).day_name()\n",
    "\n",
    "weekend_days = ['Saturday', 'Sunday']\n",
    "\n",
    "df['weekend'] = np.where(df['dayofweek'].isin(weekend_days), 1, 0)\n",
    "\n",
    "df['weekno'] = df.date.dt.week\n",
    "\n",
    "df = df[df['qty'] != 0]"
   ]
  },
  {
   "cell_type": "code",
   "execution_count": 6,
   "metadata": {},
   "outputs": [],
   "source": [
    "df['mrp'] = np.where(df.price > df.mrp, df.price, df.mrp)\n",
    "\n",
    "df =  df[df['mrp'] != 0]\n",
    "\n",
    "df = df[df['type'] == 'Sale']"
   ]
  },
  {
   "cell_type": "code",
   "execution_count": 7,
   "metadata": {},
   "outputs": [],
   "source": [
    "df['total'] = df['price'] * df['qty']\n",
    "\n",
    "df['discount'] = df['mrp'] - df['price']\n",
    "\n",
    "df['perc_discount'] = ((df['mrp'] - df['price']) / df['mrp']) * 100\n",
    "\n",
    "df['perc_discount'] = np.where(df['perc_discount'] == -np.inf, 0, df['perc_discount'])"
   ]
  },
  {
   "cell_type": "code",
   "execution_count": 8,
   "metadata": {},
   "outputs": [],
   "source": [
    "from helper import week_number_from_start\n",
    "\n",
    "df['weeks_from_start'] = 0\n",
    "\n",
    "df = week_number_from_start(df)"
   ]
  },
  {
   "cell_type": "code",
   "execution_count": null,
   "metadata": {},
   "outputs": [],
   "source": []
  },
  {
   "cell_type": "code",
   "execution_count": null,
   "metadata": {},
   "outputs": [],
   "source": []
  }
 ],
 "metadata": {
  "kernelspec": {
   "display_name": "Python 3",
   "language": "python",
   "name": "python3"
  },
  "language_info": {
   "codemirror_mode": {
    "name": "ipython",
    "version": 3
   },
   "file_extension": ".py",
   "mimetype": "text/x-python",
   "name": "python",
   "nbconvert_exporter": "python",
   "pygments_lexer": "ipython3",
   "version": "3.6.7"
  }
 },
 "nbformat": 4,
 "nbformat_minor": 2
}
