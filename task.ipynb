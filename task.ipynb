{
 "cells": [
  {
   "cell_type": "markdown",
   "metadata": {},
   "source": [
    "# Exploratory Data Analysis"
   ]
  },
  {
   "cell_type": "markdown",
   "metadata": {},
   "source": [
    "We see 9 different files, each with numerous transactions along with other metadata.\n",
    "\n",
    "Let us drill down and see what we can find. "
   ]
  },
  {
   "cell_type": "code",
   "execution_count": 2,
   "metadata": {},
   "outputs": [],
   "source": [
    "import pandas as pd\n",
    "import glob\n",
    "\n",
    "import matplotlib.pyplot as plt\n",
    "\n",
    "\n",
    "import seaborn as sns\n",
    "\n",
    "import datetime\n",
    "import numpy as np"
   ]
  },
  {
   "cell_type": "markdown",
   "metadata": {},
   "source": [
    "Importing files"
   ]
  },
  {
   "cell_type": "code",
   "execution_count": 3,
   "metadata": {},
   "outputs": [],
   "source": [
    "files = glob.glob(\"data/*.csv\")"
   ]
  },
  {
   "cell_type": "code",
   "execution_count": 4,
   "metadata": {},
   "outputs": [],
   "source": [
    "columns = ['sku', 'brand', 'cat', 'bill', 'store', 'date', 'type', 'mrp', 'price', 'qty']"
   ]
  },
  {
   "cell_type": "markdown",
   "metadata": {},
   "source": [
    "The 'source' column below is a marker to indicate file origin of the observation "
   ]
  },
  {
   "cell_type": "code",
   "execution_count": 5,
   "metadata": {},
   "outputs": [],
   "source": [
    "#Helper function to read multiple csv files and store it in a dictionary. Found in helper.py\n",
    "\n",
    "from helper import read_files"
   ]
  },
  {
   "cell_type": "code",
   "execution_count": 6,
   "metadata": {},
   "outputs": [],
   "source": [
    "df_dict = read_files(files, columns)"
   ]
  },
  {
   "cell_type": "markdown",
   "metadata": {},
   "source": [
    "### Question - The data is split into 9 files. Does it mean anything? "
   ]
  },
  {
   "cell_type": "code",
   "execution_count": 7,
   "metadata": {},
   "outputs": [],
   "source": [
    "#Helper function to test for overlap in the different files. Found in helper.py\n",
    "\n",
    "from helper import overlap"
   ]
  },
  {
   "cell_type": "code",
   "execution_count": 8,
   "metadata": {},
   "outputs": [
    {
     "data": {
      "text/plain": [
       "'Overlaps found for sku'"
      ]
     },
     "execution_count": 8,
     "metadata": {},
     "output_type": "execute_result"
    }
   ],
   "source": [
    "#A few random checks for overlaps\n",
    "\n",
    "overlap(df_dict['df1'], df_dict['df2'], 'sku')"
   ]
  },
  {
   "cell_type": "code",
   "execution_count": 9,
   "metadata": {},
   "outputs": [
    {
     "data": {
      "text/plain": [
       "'Overlaps found for brand'"
      ]
     },
     "execution_count": 9,
     "metadata": {},
     "output_type": "execute_result"
    }
   ],
   "source": [
    "overlap(df_dict['df1'], df_dict['df6'], 'brand')"
   ]
  },
  {
   "cell_type": "code",
   "execution_count": 10,
   "metadata": {},
   "outputs": [
    {
     "data": {
      "text/plain": [
       "'There is no overlap'"
      ]
     },
     "execution_count": 10,
     "metadata": {},
     "output_type": "execute_result"
    }
   ],
   "source": [
    "overlap(df_dict['df4'], df_dict['df7'], 'bill')"
   ]
  },
  {
   "cell_type": "markdown",
   "metadata": {},
   "source": [
    "### It appears that the transactions are put into different files on the basis of different bill numbers\n",
    "\n",
    "We assume that other than this, there is not much difference between the transactions in the files.\n",
    "\n",
    "Hence, we are going to concatenate all the 9 files into one big file. "
   ]
  },
  {
   "cell_type": "code",
   "execution_count": 13,
   "metadata": {},
   "outputs": [],
   "source": [
    "df = pd.concat(df for df in df_dict.values())"
   ]
  },
  {
   "cell_type": "markdown",
   "metadata": {},
   "source": [
    "# Data cleaning and formatting"
   ]
  },
  {
   "cell_type": "code",
   "execution_count": 15,
   "metadata": {},
   "outputs": [],
   "source": [
    "df['store'] = df['store'].apply(lambda x: x[-1])"
   ]
  },
  {
   "cell_type": "markdown",
   "metadata": {},
   "source": [
    "### Handling missing values"
   ]
  },
  {
   "cell_type": "code",
   "execution_count": 17,
   "metadata": {},
   "outputs": [
    {
     "data": {
      "text/plain": [
       "sku        0\n",
       "brand     13\n",
       "cat        9\n",
       "bill       0\n",
       "store      0\n",
       "date       0\n",
       "type       0\n",
       "mrp        0\n",
       "price      0\n",
       "qty        0\n",
       "source     0\n",
       "dtype: int64"
      ]
     },
     "execution_count": 17,
     "metadata": {},
     "output_type": "execute_result"
    }
   ],
   "source": [
    "df.isna().sum()"
   ]
  },
  {
   "cell_type": "markdown",
   "metadata": {},
   "source": [
    "### Only brand and cat columns have missing values. Let's investigate further. "
   ]
  },
  {
   "cell_type": "code",
   "execution_count": 19,
   "metadata": {},
   "outputs": [
    {
     "data": {
      "text/html": [
       "<div>\n",
       "<style scoped>\n",
       "    .dataframe tbody tr th:only-of-type {\n",
       "        vertical-align: middle;\n",
       "    }\n",
       "\n",
       "    .dataframe tbody tr th {\n",
       "        vertical-align: top;\n",
       "    }\n",
       "\n",
       "    .dataframe thead th {\n",
       "        text-align: right;\n",
       "    }\n",
       "</style>\n",
       "<table border=\"1\" class=\"dataframe\">\n",
       "  <thead>\n",
       "    <tr style=\"text-align: right;\">\n",
       "      <th></th>\n",
       "      <th>sku</th>\n",
       "      <th>brand</th>\n",
       "      <th>cat</th>\n",
       "      <th>bill</th>\n",
       "      <th>store</th>\n",
       "      <th>date</th>\n",
       "      <th>type</th>\n",
       "      <th>mrp</th>\n",
       "      <th>price</th>\n",
       "      <th>qty</th>\n",
       "      <th>source</th>\n",
       "    </tr>\n",
       "  </thead>\n",
       "  <tbody>\n",
       "    <tr>\n",
       "      <th>10</th>\n",
       "      <td>SKU0726</td>\n",
       "      <td>NaN</td>\n",
       "      <td>Cat01</td>\n",
       "      <td>BILL02585</td>\n",
       "      <td>6</td>\n",
       "      <td>2017-07-19</td>\n",
       "      <td>Sale</td>\n",
       "      <td>54.67</td>\n",
       "      <td>54.67</td>\n",
       "      <td>1</td>\n",
       "      <td>9</td>\n",
       "    </tr>\n",
       "    <tr>\n",
       "      <th>11</th>\n",
       "      <td>SKU0726</td>\n",
       "      <td>NaN</td>\n",
       "      <td>Cat01</td>\n",
       "      <td>BILL02585</td>\n",
       "      <td>6</td>\n",
       "      <td>2017-07-19</td>\n",
       "      <td>Sale</td>\n",
       "      <td>54.67</td>\n",
       "      <td>54.67</td>\n",
       "      <td>1</td>\n",
       "      <td>9</td>\n",
       "    </tr>\n",
       "    <tr>\n",
       "      <th>29</th>\n",
       "      <td>SKU2585</td>\n",
       "      <td>NaN</td>\n",
       "      <td>NaN</td>\n",
       "      <td>BILL09133</td>\n",
       "      <td>3</td>\n",
       "      <td>2017-09-09</td>\n",
       "      <td>Sale</td>\n",
       "      <td>2.60</td>\n",
       "      <td>2.60</td>\n",
       "      <td>1</td>\n",
       "      <td>4</td>\n",
       "    </tr>\n",
       "    <tr>\n",
       "      <th>1278</th>\n",
       "      <td>SKU2649</td>\n",
       "      <td>NaN</td>\n",
       "      <td>NaN</td>\n",
       "      <td>BILL09643</td>\n",
       "      <td>3</td>\n",
       "      <td>2017-09-06</td>\n",
       "      <td>Sale</td>\n",
       "      <td>8.00</td>\n",
       "      <td>8.00</td>\n",
       "      <td>1</td>\n",
       "      <td>4</td>\n",
       "    </tr>\n",
       "    <tr>\n",
       "      <th>1372</th>\n",
       "      <td>SKU2653</td>\n",
       "      <td>NaN</td>\n",
       "      <td>NaN</td>\n",
       "      <td>BILL09736</td>\n",
       "      <td>3</td>\n",
       "      <td>2017-09-07</td>\n",
       "      <td>Sale</td>\n",
       "      <td>30.00</td>\n",
       "      <td>30.00</td>\n",
       "      <td>1</td>\n",
       "      <td>4</td>\n",
       "    </tr>\n",
       "    <tr>\n",
       "      <th>1373</th>\n",
       "      <td>SKU2649</td>\n",
       "      <td>NaN</td>\n",
       "      <td>NaN</td>\n",
       "      <td>BILL09737</td>\n",
       "      <td>3</td>\n",
       "      <td>2017-09-07</td>\n",
       "      <td>Sale</td>\n",
       "      <td>8.00</td>\n",
       "      <td>8.00</td>\n",
       "      <td>1</td>\n",
       "      <td>4</td>\n",
       "    </tr>\n",
       "    <tr>\n",
       "      <th>1434</th>\n",
       "      <td>SKU2654</td>\n",
       "      <td>NaN</td>\n",
       "      <td>NaN</td>\n",
       "      <td>BILL09771</td>\n",
       "      <td>3</td>\n",
       "      <td>2017-09-07</td>\n",
       "      <td>Sale</td>\n",
       "      <td>9.67</td>\n",
       "      <td>9.67</td>\n",
       "      <td>1</td>\n",
       "      <td>4</td>\n",
       "    </tr>\n",
       "    <tr>\n",
       "      <th>1478</th>\n",
       "      <td>SKU2657</td>\n",
       "      <td>NaN</td>\n",
       "      <td>NaN</td>\n",
       "      <td>BILL09798</td>\n",
       "      <td>3</td>\n",
       "      <td>2017-09-08</td>\n",
       "      <td>Sale</td>\n",
       "      <td>3.73</td>\n",
       "      <td>0.00</td>\n",
       "      <td>1</td>\n",
       "      <td>4</td>\n",
       "    </tr>\n",
       "    <tr>\n",
       "      <th>1482</th>\n",
       "      <td>SKU2658</td>\n",
       "      <td>NaN</td>\n",
       "      <td>NaN</td>\n",
       "      <td>BILL09802</td>\n",
       "      <td>3</td>\n",
       "      <td>2017-09-08</td>\n",
       "      <td>Sale</td>\n",
       "      <td>4.33</td>\n",
       "      <td>4.33</td>\n",
       "      <td>1</td>\n",
       "      <td>4</td>\n",
       "    </tr>\n",
       "    <tr>\n",
       "      <th>1490</th>\n",
       "      <td>SKU2659</td>\n",
       "      <td>NaN</td>\n",
       "      <td>NaN</td>\n",
       "      <td>BILL09809</td>\n",
       "      <td>3</td>\n",
       "      <td>2017-09-08</td>\n",
       "      <td>Sale</td>\n",
       "      <td>4.33</td>\n",
       "      <td>4.33</td>\n",
       "      <td>1</td>\n",
       "      <td>4</td>\n",
       "    </tr>\n",
       "    <tr>\n",
       "      <th>1506</th>\n",
       "      <td>SKU2661</td>\n",
       "      <td>NaN</td>\n",
       "      <td>NaN</td>\n",
       "      <td>BILL09825</td>\n",
       "      <td>3</td>\n",
       "      <td>2017-09-08</td>\n",
       "      <td>Sale</td>\n",
       "      <td>3.99</td>\n",
       "      <td>3.99</td>\n",
       "      <td>1</td>\n",
       "      <td>4</td>\n",
       "    </tr>\n",
       "    <tr>\n",
       "      <th>10</th>\n",
       "      <td>SKU0726</td>\n",
       "      <td>NaN</td>\n",
       "      <td>Cat01</td>\n",
       "      <td>BILL02585</td>\n",
       "      <td>6</td>\n",
       "      <td>2017-07-19</td>\n",
       "      <td>Sale</td>\n",
       "      <td>54.67</td>\n",
       "      <td>54.67</td>\n",
       "      <td>1</td>\n",
       "      <td>8</td>\n",
       "    </tr>\n",
       "    <tr>\n",
       "      <th>11</th>\n",
       "      <td>SKU0726</td>\n",
       "      <td>NaN</td>\n",
       "      <td>Cat01</td>\n",
       "      <td>BILL02585</td>\n",
       "      <td>6</td>\n",
       "      <td>2017-07-19</td>\n",
       "      <td>Sale</td>\n",
       "      <td>54.67</td>\n",
       "      <td>54.67</td>\n",
       "      <td>1</td>\n",
       "      <td>8</td>\n",
       "    </tr>\n",
       "  </tbody>\n",
       "</table>\n",
       "</div>"
      ],
      "text/plain": [
       "          sku brand    cat       bill store        date  type    mrp  price  \\\n",
       "10    SKU0726   NaN  Cat01  BILL02585     6  2017-07-19  Sale  54.67  54.67   \n",
       "11    SKU0726   NaN  Cat01  BILL02585     6  2017-07-19  Sale  54.67  54.67   \n",
       "29    SKU2585   NaN    NaN  BILL09133     3  2017-09-09  Sale   2.60   2.60   \n",
       "1278  SKU2649   NaN    NaN  BILL09643     3  2017-09-06  Sale   8.00   8.00   \n",
       "1372  SKU2653   NaN    NaN  BILL09736     3  2017-09-07  Sale  30.00  30.00   \n",
       "1373  SKU2649   NaN    NaN  BILL09737     3  2017-09-07  Sale   8.00   8.00   \n",
       "1434  SKU2654   NaN    NaN  BILL09771     3  2017-09-07  Sale   9.67   9.67   \n",
       "1478  SKU2657   NaN    NaN  BILL09798     3  2017-09-08  Sale   3.73   0.00   \n",
       "1482  SKU2658   NaN    NaN  BILL09802     3  2017-09-08  Sale   4.33   4.33   \n",
       "1490  SKU2659   NaN    NaN  BILL09809     3  2017-09-08  Sale   4.33   4.33   \n",
       "1506  SKU2661   NaN    NaN  BILL09825     3  2017-09-08  Sale   3.99   3.99   \n",
       "10    SKU0726   NaN  Cat01  BILL02585     6  2017-07-19  Sale  54.67  54.67   \n",
       "11    SKU0726   NaN  Cat01  BILL02585     6  2017-07-19  Sale  54.67  54.67   \n",
       "\n",
       "      qty source  \n",
       "10      1      9  \n",
       "11      1      9  \n",
       "29      1      4  \n",
       "1278    1      4  \n",
       "1372    1      4  \n",
       "1373    1      4  \n",
       "1434    1      4  \n",
       "1478    1      4  \n",
       "1482    1      4  \n",
       "1490    1      4  \n",
       "1506    1      4  \n",
       "10      1      8  \n",
       "11      1      8  "
      ]
     },
     "execution_count": 19,
     "metadata": {},
     "output_type": "execute_result"
    }
   ],
   "source": [
    "# Subset where brand is NaN\n",
    "\n",
    "df[df['brand'].isnull()]"
   ]
  },
  {
   "cell_type": "code",
   "execution_count": 20,
   "metadata": {},
   "outputs": [
    {
     "data": {
      "text/html": [
       "<div>\n",
       "<style scoped>\n",
       "    .dataframe tbody tr th:only-of-type {\n",
       "        vertical-align: middle;\n",
       "    }\n",
       "\n",
       "    .dataframe tbody tr th {\n",
       "        vertical-align: top;\n",
       "    }\n",
       "\n",
       "    .dataframe thead th {\n",
       "        text-align: right;\n",
       "    }\n",
       "</style>\n",
       "<table border=\"1\" class=\"dataframe\">\n",
       "  <thead>\n",
       "    <tr style=\"text-align: right;\">\n",
       "      <th></th>\n",
       "      <th>sku</th>\n",
       "      <th>brand</th>\n",
       "      <th>cat</th>\n",
       "      <th>bill</th>\n",
       "      <th>store</th>\n",
       "      <th>date</th>\n",
       "      <th>type</th>\n",
       "      <th>mrp</th>\n",
       "      <th>price</th>\n",
       "      <th>qty</th>\n",
       "      <th>source</th>\n",
       "    </tr>\n",
       "  </thead>\n",
       "  <tbody>\n",
       "    <tr>\n",
       "      <th>29</th>\n",
       "      <td>SKU2585</td>\n",
       "      <td>NaN</td>\n",
       "      <td>NaN</td>\n",
       "      <td>BILL09133</td>\n",
       "      <td>3</td>\n",
       "      <td>2017-09-09</td>\n",
       "      <td>Sale</td>\n",
       "      <td>2.60</td>\n",
       "      <td>2.60</td>\n",
       "      <td>1</td>\n",
       "      <td>4</td>\n",
       "    </tr>\n",
       "    <tr>\n",
       "      <th>1278</th>\n",
       "      <td>SKU2649</td>\n",
       "      <td>NaN</td>\n",
       "      <td>NaN</td>\n",
       "      <td>BILL09643</td>\n",
       "      <td>3</td>\n",
       "      <td>2017-09-06</td>\n",
       "      <td>Sale</td>\n",
       "      <td>8.00</td>\n",
       "      <td>8.00</td>\n",
       "      <td>1</td>\n",
       "      <td>4</td>\n",
       "    </tr>\n",
       "    <tr>\n",
       "      <th>1372</th>\n",
       "      <td>SKU2653</td>\n",
       "      <td>NaN</td>\n",
       "      <td>NaN</td>\n",
       "      <td>BILL09736</td>\n",
       "      <td>3</td>\n",
       "      <td>2017-09-07</td>\n",
       "      <td>Sale</td>\n",
       "      <td>30.00</td>\n",
       "      <td>30.00</td>\n",
       "      <td>1</td>\n",
       "      <td>4</td>\n",
       "    </tr>\n",
       "    <tr>\n",
       "      <th>1373</th>\n",
       "      <td>SKU2649</td>\n",
       "      <td>NaN</td>\n",
       "      <td>NaN</td>\n",
       "      <td>BILL09737</td>\n",
       "      <td>3</td>\n",
       "      <td>2017-09-07</td>\n",
       "      <td>Sale</td>\n",
       "      <td>8.00</td>\n",
       "      <td>8.00</td>\n",
       "      <td>1</td>\n",
       "      <td>4</td>\n",
       "    </tr>\n",
       "    <tr>\n",
       "      <th>1434</th>\n",
       "      <td>SKU2654</td>\n",
       "      <td>NaN</td>\n",
       "      <td>NaN</td>\n",
       "      <td>BILL09771</td>\n",
       "      <td>3</td>\n",
       "      <td>2017-09-07</td>\n",
       "      <td>Sale</td>\n",
       "      <td>9.67</td>\n",
       "      <td>9.67</td>\n",
       "      <td>1</td>\n",
       "      <td>4</td>\n",
       "    </tr>\n",
       "    <tr>\n",
       "      <th>1478</th>\n",
       "      <td>SKU2657</td>\n",
       "      <td>NaN</td>\n",
       "      <td>NaN</td>\n",
       "      <td>BILL09798</td>\n",
       "      <td>3</td>\n",
       "      <td>2017-09-08</td>\n",
       "      <td>Sale</td>\n",
       "      <td>3.73</td>\n",
       "      <td>0.00</td>\n",
       "      <td>1</td>\n",
       "      <td>4</td>\n",
       "    </tr>\n",
       "    <tr>\n",
       "      <th>1482</th>\n",
       "      <td>SKU2658</td>\n",
       "      <td>NaN</td>\n",
       "      <td>NaN</td>\n",
       "      <td>BILL09802</td>\n",
       "      <td>3</td>\n",
       "      <td>2017-09-08</td>\n",
       "      <td>Sale</td>\n",
       "      <td>4.33</td>\n",
       "      <td>4.33</td>\n",
       "      <td>1</td>\n",
       "      <td>4</td>\n",
       "    </tr>\n",
       "    <tr>\n",
       "      <th>1490</th>\n",
       "      <td>SKU2659</td>\n",
       "      <td>NaN</td>\n",
       "      <td>NaN</td>\n",
       "      <td>BILL09809</td>\n",
       "      <td>3</td>\n",
       "      <td>2017-09-08</td>\n",
       "      <td>Sale</td>\n",
       "      <td>4.33</td>\n",
       "      <td>4.33</td>\n",
       "      <td>1</td>\n",
       "      <td>4</td>\n",
       "    </tr>\n",
       "    <tr>\n",
       "      <th>1506</th>\n",
       "      <td>SKU2661</td>\n",
       "      <td>NaN</td>\n",
       "      <td>NaN</td>\n",
       "      <td>BILL09825</td>\n",
       "      <td>3</td>\n",
       "      <td>2017-09-08</td>\n",
       "      <td>Sale</td>\n",
       "      <td>3.99</td>\n",
       "      <td>3.99</td>\n",
       "      <td>1</td>\n",
       "      <td>4</td>\n",
       "    </tr>\n",
       "  </tbody>\n",
       "</table>\n",
       "</div>"
      ],
      "text/plain": [
       "          sku brand  cat       bill store        date  type    mrp  price  \\\n",
       "29    SKU2585   NaN  NaN  BILL09133     3  2017-09-09  Sale   2.60   2.60   \n",
       "1278  SKU2649   NaN  NaN  BILL09643     3  2017-09-06  Sale   8.00   8.00   \n",
       "1372  SKU2653   NaN  NaN  BILL09736     3  2017-09-07  Sale  30.00  30.00   \n",
       "1373  SKU2649   NaN  NaN  BILL09737     3  2017-09-07  Sale   8.00   8.00   \n",
       "1434  SKU2654   NaN  NaN  BILL09771     3  2017-09-07  Sale   9.67   9.67   \n",
       "1478  SKU2657   NaN  NaN  BILL09798     3  2017-09-08  Sale   3.73   0.00   \n",
       "1482  SKU2658   NaN  NaN  BILL09802     3  2017-09-08  Sale   4.33   4.33   \n",
       "1490  SKU2659   NaN  NaN  BILL09809     3  2017-09-08  Sale   4.33   4.33   \n",
       "1506  SKU2661   NaN  NaN  BILL09825     3  2017-09-08  Sale   3.99   3.99   \n",
       "\n",
       "      qty source  \n",
       "29      1      4  \n",
       "1278    1      4  \n",
       "1372    1      4  \n",
       "1373    1      4  \n",
       "1434    1      4  \n",
       "1478    1      4  \n",
       "1482    1      4  \n",
       "1490    1      4  \n",
       "1506    1      4  "
      ]
     },
     "execution_count": 20,
     "metadata": {},
     "output_type": "execute_result"
    }
   ],
   "source": [
    "### Instead of throwing the data, we replace missing brands by 'UnkBRAND' and missing categories by 'UnkCAT'"
   ]
  },
  {
   "cell_type": "code",
   "execution_count": null,
   "metadata": {},
   "outputs": [],
   "source": [
    "df.loc[df['brand'].isnull(), 'brand'] = 'UnkBRAND'\n",
    "\n",
    "df.loc[df['cat'].isnull(), 'cat'] = 'UnkCAT'"
   ]
  },
  {
   "cell_type": "code",
   "execution_count": null,
   "metadata": {},
   "outputs": [],
   "source": []
  }
 ],
 "metadata": {
  "kernelspec": {
   "display_name": "Python 3",
   "language": "python",
   "name": "python3"
  },
  "language_info": {
   "codemirror_mode": {
    "name": "ipython",
    "version": 3
   },
   "file_extension": ".py",
   "mimetype": "text/x-python",
   "name": "python",
   "nbconvert_exporter": "python",
   "pygments_lexer": "ipython3",
   "version": "3.6.7"
  }
 },
 "nbformat": 4,
 "nbformat_minor": 2
}
