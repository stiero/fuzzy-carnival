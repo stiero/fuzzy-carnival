{
 "cells": [
  {
   "cell_type": "markdown",
   "metadata": {},
   "source": [
    "# Exploratory Data Analysis"
   ]
  },
  {
   "cell_type": "markdown",
   "metadata": {},
   "source": [
    "We see 9 different files, each with numerous transactions along with other metadata.\n",
    "\n",
    "Let us drill down and see what we can find. "
   ]
  },
  {
   "cell_type": "code",
   "execution_count": 1,
   "metadata": {},
   "outputs": [],
   "source": [
    "import pandas as pd\n",
    "import glob\n",
    "\n",
    "import matplotlib.pyplot as plt\n",
    "\n",
    "\n",
    "import seaborn as sns\n",
    "\n",
    "import datetime\n",
    "import numpy as np"
   ]
  },
  {
   "cell_type": "markdown",
   "metadata": {},
   "source": [
    "Importing files"
   ]
  },
  {
   "cell_type": "code",
   "execution_count": 2,
   "metadata": {},
   "outputs": [],
   "source": [
    "files = glob.glob(\"data/*.csv\")"
   ]
  },
  {
   "cell_type": "code",
   "execution_count": 3,
   "metadata": {},
   "outputs": [],
   "source": [
    "columns = ['sku', 'brand', 'cat', 'bill', 'store', 'date', 'type', 'mrp', 'price', 'qty']"
   ]
  },
  {
   "cell_type": "markdown",
   "metadata": {},
   "source": [
    "The 'source' column below is a marker to indicate file origin of the observation "
   ]
  },
  {
   "cell_type": "code",
   "execution_count": 4,
   "metadata": {},
   "outputs": [],
   "source": [
    "#Helper function to read multiple csv files and store it in a dictionary. Found in helper.py\n",
    "\n",
    "from helper import read_files"
   ]
  },
  {
   "cell_type": "code",
   "execution_count": 5,
   "metadata": {},
   "outputs": [],
   "source": [
    "df_dict = read_files(files, columns)"
   ]
  },
  {
   "cell_type": "markdown",
   "metadata": {},
   "source": [
    "#    "
   ]
  },
  {
   "cell_type": "markdown",
   "metadata": {},
   "source": [
    "##### Question 1 - The data is split into 9 files. Does it mean anything? "
   ]
  },
  {
   "cell_type": "code",
   "execution_count": 6,
   "metadata": {},
   "outputs": [],
   "source": [
    "#Helper function to test for overlap in the different files. Found in helper.py\n",
    "\n",
    "from helper import overlap"
   ]
  },
  {
   "cell_type": "code",
   "execution_count": 7,
   "metadata": {},
   "outputs": [
    {
     "data": {
      "text/plain": [
       "'Overlaps found for sku'"
      ]
     },
     "execution_count": 7,
     "metadata": {},
     "output_type": "execute_result"
    }
   ],
   "source": [
    "#A few random checks for overlaps\n",
    "\n",
    "overlap(df_dict['df1'], df_dict['df2'], 'sku')"
   ]
  },
  {
   "cell_type": "code",
   "execution_count": 8,
   "metadata": {},
   "outputs": [
    {
     "data": {
      "text/plain": [
       "'Overlaps found for brand'"
      ]
     },
     "execution_count": 8,
     "metadata": {},
     "output_type": "execute_result"
    }
   ],
   "source": [
    "overlap(df_dict['df1'], df_dict['df6'], 'brand')"
   ]
  },
  {
   "cell_type": "code",
   "execution_count": 9,
   "metadata": {},
   "outputs": [
    {
     "data": {
      "text/plain": [
       "'There is no overlap'"
      ]
     },
     "execution_count": 9,
     "metadata": {},
     "output_type": "execute_result"
    }
   ],
   "source": [
    "overlap(df_dict['df4'], df_dict['df7'], 'bill')"
   ]
  },
  {
   "cell_type": "markdown",
   "metadata": {},
   "source": [
    "##### Answer-  It appears that the transactions are put into different files on the basis of different bill numbers\n",
    "\n",
    "We assume that other than this, there is not much difference between the transactions in the files.\n",
    "\n",
    "Hence, we are going to concatenate all the 9 files into one big file. "
   ]
  },
  {
   "cell_type": "code",
   "execution_count": 10,
   "metadata": {},
   "outputs": [],
   "source": [
    "df = pd.concat(df for df in df_dict.values())"
   ]
  },
  {
   "cell_type": "markdown",
   "metadata": {},
   "source": [
    " "
   ]
  },
  {
   "cell_type": "markdown",
   "metadata": {},
   "source": [
    "#     "
   ]
  },
  {
   "cell_type": "markdown",
   "metadata": {},
   "source": [
    "### Data cleaning and formatting"
   ]
  },
  {
   "cell_type": "markdown",
   "metadata": {},
   "source": [
    "We keep store number only instead of the string"
   ]
  },
  {
   "cell_type": "code",
   "execution_count": 11,
   "metadata": {},
   "outputs": [],
   "source": [
    "df['store'] = df['store'].apply(lambda x: x[-1])"
   ]
  },
  {
   "cell_type": "markdown",
   "metadata": {},
   "source": [
    "###### Handling duplicate values"
   ]
  },
  {
   "cell_type": "code",
   "execution_count": 12,
   "metadata": {},
   "outputs": [
    {
     "name": "stdout",
     "output_type": "stream",
     "text": [
      "There are 3889 duplicate rows\n"
     ]
    }
   ],
   "source": [
    "num_duplicated = df.duplicated(keep='first').sum()\n",
    "\n",
    "print(\"There are {} duplicate rows\".format(num_duplicated))"
   ]
  },
  {
   "cell_type": "markdown",
   "metadata": {},
   "source": [
    "We drop the duplicate rows on second occurrence "
   ]
  },
  {
   "cell_type": "code",
   "execution_count": 13,
   "metadata": {},
   "outputs": [],
   "source": [
    "df = df.drop_duplicates(keep=\"first\")"
   ]
  },
  {
   "cell_type": "markdown",
   "metadata": {},
   "source": [
    "###### Handling missing values"
   ]
  },
  {
   "cell_type": "code",
   "execution_count": 14,
   "metadata": {},
   "outputs": [
    {
     "data": {
      "text/plain": [
       "sku        0\n",
       "brand     11\n",
       "cat        9\n",
       "bill       0\n",
       "store      0\n",
       "date       0\n",
       "type       0\n",
       "mrp        0\n",
       "price      0\n",
       "qty        0\n",
       "source     0\n",
       "dtype: int64"
      ]
     },
     "execution_count": 14,
     "metadata": {},
     "output_type": "execute_result"
    }
   ],
   "source": [
    "df.isna().sum()"
   ]
  },
  {
   "cell_type": "markdown",
   "metadata": {},
   "source": [
    "###### Only brand and cat columns have missing values. Let's investigate further. "
   ]
  },
  {
   "cell_type": "code",
   "execution_count": 15,
   "metadata": {},
   "outputs": [
    {
     "data": {
      "text/html": [
       "<div>\n",
       "<style scoped>\n",
       "    .dataframe tbody tr th:only-of-type {\n",
       "        vertical-align: middle;\n",
       "    }\n",
       "\n",
       "    .dataframe tbody tr th {\n",
       "        vertical-align: top;\n",
       "    }\n",
       "\n",
       "    .dataframe thead th {\n",
       "        text-align: right;\n",
       "    }\n",
       "</style>\n",
       "<table border=\"1\" class=\"dataframe\">\n",
       "  <thead>\n",
       "    <tr style=\"text-align: right;\">\n",
       "      <th></th>\n",
       "      <th>sku</th>\n",
       "      <th>brand</th>\n",
       "      <th>cat</th>\n",
       "      <th>bill</th>\n",
       "      <th>store</th>\n",
       "      <th>date</th>\n",
       "      <th>type</th>\n",
       "      <th>mrp</th>\n",
       "      <th>price</th>\n",
       "      <th>qty</th>\n",
       "      <th>source</th>\n",
       "    </tr>\n",
       "  </thead>\n",
       "  <tbody>\n",
       "    <tr>\n",
       "      <th>10</th>\n",
       "      <td>SKU0726</td>\n",
       "      <td>NaN</td>\n",
       "      <td>Cat01</td>\n",
       "      <td>BILL02585</td>\n",
       "      <td>6</td>\n",
       "      <td>2017-07-19</td>\n",
       "      <td>Sale</td>\n",
       "      <td>54.67</td>\n",
       "      <td>54.67</td>\n",
       "      <td>1</td>\n",
       "      <td>9</td>\n",
       "    </tr>\n",
       "    <tr>\n",
       "      <th>29</th>\n",
       "      <td>SKU2585</td>\n",
       "      <td>NaN</td>\n",
       "      <td>NaN</td>\n",
       "      <td>BILL09133</td>\n",
       "      <td>3</td>\n",
       "      <td>2017-09-09</td>\n",
       "      <td>Sale</td>\n",
       "      <td>2.60</td>\n",
       "      <td>2.60</td>\n",
       "      <td>1</td>\n",
       "      <td>4</td>\n",
       "    </tr>\n",
       "    <tr>\n",
       "      <th>1278</th>\n",
       "      <td>SKU2649</td>\n",
       "      <td>NaN</td>\n",
       "      <td>NaN</td>\n",
       "      <td>BILL09643</td>\n",
       "      <td>3</td>\n",
       "      <td>2017-09-06</td>\n",
       "      <td>Sale</td>\n",
       "      <td>8.00</td>\n",
       "      <td>8.00</td>\n",
       "      <td>1</td>\n",
       "      <td>4</td>\n",
       "    </tr>\n",
       "    <tr>\n",
       "      <th>1372</th>\n",
       "      <td>SKU2653</td>\n",
       "      <td>NaN</td>\n",
       "      <td>NaN</td>\n",
       "      <td>BILL09736</td>\n",
       "      <td>3</td>\n",
       "      <td>2017-09-07</td>\n",
       "      <td>Sale</td>\n",
       "      <td>30.00</td>\n",
       "      <td>30.00</td>\n",
       "      <td>1</td>\n",
       "      <td>4</td>\n",
       "    </tr>\n",
       "    <tr>\n",
       "      <th>1373</th>\n",
       "      <td>SKU2649</td>\n",
       "      <td>NaN</td>\n",
       "      <td>NaN</td>\n",
       "      <td>BILL09737</td>\n",
       "      <td>3</td>\n",
       "      <td>2017-09-07</td>\n",
       "      <td>Sale</td>\n",
       "      <td>8.00</td>\n",
       "      <td>8.00</td>\n",
       "      <td>1</td>\n",
       "      <td>4</td>\n",
       "    </tr>\n",
       "    <tr>\n",
       "      <th>1434</th>\n",
       "      <td>SKU2654</td>\n",
       "      <td>NaN</td>\n",
       "      <td>NaN</td>\n",
       "      <td>BILL09771</td>\n",
       "      <td>3</td>\n",
       "      <td>2017-09-07</td>\n",
       "      <td>Sale</td>\n",
       "      <td>9.67</td>\n",
       "      <td>9.67</td>\n",
       "      <td>1</td>\n",
       "      <td>4</td>\n",
       "    </tr>\n",
       "    <tr>\n",
       "      <th>1478</th>\n",
       "      <td>SKU2657</td>\n",
       "      <td>NaN</td>\n",
       "      <td>NaN</td>\n",
       "      <td>BILL09798</td>\n",
       "      <td>3</td>\n",
       "      <td>2017-09-08</td>\n",
       "      <td>Sale</td>\n",
       "      <td>3.73</td>\n",
       "      <td>0.00</td>\n",
       "      <td>1</td>\n",
       "      <td>4</td>\n",
       "    </tr>\n",
       "    <tr>\n",
       "      <th>1482</th>\n",
       "      <td>SKU2658</td>\n",
       "      <td>NaN</td>\n",
       "      <td>NaN</td>\n",
       "      <td>BILL09802</td>\n",
       "      <td>3</td>\n",
       "      <td>2017-09-08</td>\n",
       "      <td>Sale</td>\n",
       "      <td>4.33</td>\n",
       "      <td>4.33</td>\n",
       "      <td>1</td>\n",
       "      <td>4</td>\n",
       "    </tr>\n",
       "    <tr>\n",
       "      <th>1490</th>\n",
       "      <td>SKU2659</td>\n",
       "      <td>NaN</td>\n",
       "      <td>NaN</td>\n",
       "      <td>BILL09809</td>\n",
       "      <td>3</td>\n",
       "      <td>2017-09-08</td>\n",
       "      <td>Sale</td>\n",
       "      <td>4.33</td>\n",
       "      <td>4.33</td>\n",
       "      <td>1</td>\n",
       "      <td>4</td>\n",
       "    </tr>\n",
       "    <tr>\n",
       "      <th>1506</th>\n",
       "      <td>SKU2661</td>\n",
       "      <td>NaN</td>\n",
       "      <td>NaN</td>\n",
       "      <td>BILL09825</td>\n",
       "      <td>3</td>\n",
       "      <td>2017-09-08</td>\n",
       "      <td>Sale</td>\n",
       "      <td>3.99</td>\n",
       "      <td>3.99</td>\n",
       "      <td>1</td>\n",
       "      <td>4</td>\n",
       "    </tr>\n",
       "    <tr>\n",
       "      <th>10</th>\n",
       "      <td>SKU0726</td>\n",
       "      <td>NaN</td>\n",
       "      <td>Cat01</td>\n",
       "      <td>BILL02585</td>\n",
       "      <td>6</td>\n",
       "      <td>2017-07-19</td>\n",
       "      <td>Sale</td>\n",
       "      <td>54.67</td>\n",
       "      <td>54.67</td>\n",
       "      <td>1</td>\n",
       "      <td>8</td>\n",
       "    </tr>\n",
       "  </tbody>\n",
       "</table>\n",
       "</div>"
      ],
      "text/plain": [
       "          sku brand    cat       bill store        date  type    mrp  price  \\\n",
       "10    SKU0726   NaN  Cat01  BILL02585     6  2017-07-19  Sale  54.67  54.67   \n",
       "29    SKU2585   NaN    NaN  BILL09133     3  2017-09-09  Sale   2.60   2.60   \n",
       "1278  SKU2649   NaN    NaN  BILL09643     3  2017-09-06  Sale   8.00   8.00   \n",
       "1372  SKU2653   NaN    NaN  BILL09736     3  2017-09-07  Sale  30.00  30.00   \n",
       "1373  SKU2649   NaN    NaN  BILL09737     3  2017-09-07  Sale   8.00   8.00   \n",
       "1434  SKU2654   NaN    NaN  BILL09771     3  2017-09-07  Sale   9.67   9.67   \n",
       "1478  SKU2657   NaN    NaN  BILL09798     3  2017-09-08  Sale   3.73   0.00   \n",
       "1482  SKU2658   NaN    NaN  BILL09802     3  2017-09-08  Sale   4.33   4.33   \n",
       "1490  SKU2659   NaN    NaN  BILL09809     3  2017-09-08  Sale   4.33   4.33   \n",
       "1506  SKU2661   NaN    NaN  BILL09825     3  2017-09-08  Sale   3.99   3.99   \n",
       "10    SKU0726   NaN  Cat01  BILL02585     6  2017-07-19  Sale  54.67  54.67   \n",
       "\n",
       "      qty source  \n",
       "10      1      9  \n",
       "29      1      4  \n",
       "1278    1      4  \n",
       "1372    1      4  \n",
       "1373    1      4  \n",
       "1434    1      4  \n",
       "1478    1      4  \n",
       "1482    1      4  \n",
       "1490    1      4  \n",
       "1506    1      4  \n",
       "10      1      8  "
      ]
     },
     "execution_count": 15,
     "metadata": {},
     "output_type": "execute_result"
    }
   ],
   "source": [
    "# Subset where brand is NaN\n",
    "\n",
    "df[df['brand'].isnull()]"
   ]
  },
  {
   "cell_type": "markdown",
   "metadata": {},
   "source": [
    "###### Instead of throwing the data away, we replace missing brands by 'UnkBRAND' and missing categories by 'UnkCAT'"
   ]
  },
  {
   "cell_type": "code",
   "execution_count": 16,
   "metadata": {},
   "outputs": [],
   "source": [
    "df.loc[df['brand'].isnull(), 'brand'] = 'UnkBRAND'\n",
    "\n",
    "df.loc[df['cat'].isnull(), 'cat'] = 'UnkCAT'"
   ]
  },
  {
   "cell_type": "code",
   "execution_count": 17,
   "metadata": {},
   "outputs": [],
   "source": [
    "### Extracting day, month, dayofweek and weekend flag from date"
   ]
  },
  {
   "cell_type": "code",
   "execution_count": 18,
   "metadata": {},
   "outputs": [],
   "source": [
    "df['date'] = pd.to_datetime(df['date'])\n",
    "\n",
    "df['day'] = pd.DatetimeIndex(df['date']).day\n",
    "\n",
    "df['month'] = pd.DatetimeIndex(df['date']).month_name()\n",
    "\n",
    "df['dayofweek'] = pd.DatetimeIndex(df['date']).day_name()\n",
    "\n",
    "weekend_days = ['Saturday', 'Sunday']\n",
    "\n",
    "df['weekend'] = np.where(df['dayofweek'].isin(weekend_days), 1, 0)"
   ]
  },
  {
   "cell_type": "markdown",
   "metadata": {},
   "source": [
    "###### Creating total price, discount and percentage discount features"
   ]
  },
  {
   "cell_type": "code",
   "execution_count": 19,
   "metadata": {},
   "outputs": [],
   "source": [
    "df['total'] = df['price'] * df['qty']\n",
    "\n",
    "df['discount'] = df['mrp'] - df['price']\n",
    "\n",
    "df['perc_discount'] = ((df['mrp'] - df['price']) / df['mrp']) * 100"
   ]
  },
  {
   "cell_type": "markdown",
   "metadata": {},
   "source": [
    "#      "
   ]
  },
  {
   "cell_type": "markdown",
   "metadata": {},
   "source": [
    "### We visualise columns by transaction count "
   ]
  },
  {
   "cell_type": "code",
   "execution_count": 20,
   "metadata": {
    "scrolled": true
   },
   "outputs": [
    {
     "data": {
      "text/plain": [
       "(array([ 0,  1,  2,  3,  4,  5,  6,  7,  8,  9, 10, 11]),\n",
       " <a list of 12 Text xticklabel objects>)"
      ]
     },
     "execution_count": 20,
     "metadata": {},
     "output_type": "execute_result"
    },
    {
     "data": {
      "image/png": "[encoded data removed]",
      "text/plain": [
       "<Figure size 1080x1080 with 4 Axes>"
      ]
     },
     "metadata": {
      "needs_background": "light"
     },
     "output_type": "display_data"
    }
   ],
   "source": [
    "fig, axs = plt.subplots(2, 2, figsize = (15,15))\n",
    "\n",
    "cat_plot = sns.countplot(df['cat'], ax=axs[0,0])\n",
    "\n",
    "plt.xticks(rotation=45)\n",
    "\n",
    "\n",
    "store_plot = sns.countplot(df['store'], ax=axs[0,1])\n",
    "plt.xticks(rotation=45)\n",
    "\n",
    "sale_type_plot = sns.countplot(df['type'], ax=axs[1,0])\n",
    "plt.xticks(rotation=45)\n",
    "    \n",
    "qty_plot = sns.countplot(df['qty'], ax=axs[1,1])\n",
    "plt.xticks(rotation=45)\n"
   ]
  },
  {
   "cell_type": "markdown",
   "metadata": {},
   "source": [
    "SKUs of Category 4 are highest-selling by volume. Store 5 has the most number of transactions. \n",
    "\n",
    "Most SKUs are sold in singular quantities. The vast majority of transactions are sales.  "
   ]
  },
  {
   "cell_type": "markdown",
   "metadata": {},
   "source": [
    "#    "
   ]
  },
  {
   "cell_type": "markdown",
   "metadata": {},
   "source": [
    "###### Question - Notice that there are transactions with zero quantity. Examining the dataset confirms this. \n",
    "###### What do we do here? "
   ]
  },
  {
   "cell_type": "code",
   "execution_count": 21,
   "metadata": {},
   "outputs": [
    {
     "data": {
      "text/html": [
       "<div>\n",
       "<style scoped>\n",
       "    .dataframe tbody tr th:only-of-type {\n",
       "        vertical-align: middle;\n",
       "    }\n",
       "\n",
       "    .dataframe tbody tr th {\n",
       "        vertical-align: top;\n",
       "    }\n",
       "\n",
       "    .dataframe thead th {\n",
       "        text-align: right;\n",
       "    }\n",
       "</style>\n",
       "<table border=\"1\" class=\"dataframe\">\n",
       "  <thead>\n",
       "    <tr style=\"text-align: right;\">\n",
       "      <th></th>\n",
       "      <th>sku</th>\n",
       "      <th>brand</th>\n",
       "      <th>cat</th>\n",
       "      <th>bill</th>\n",
       "      <th>store</th>\n",
       "      <th>date</th>\n",
       "      <th>type</th>\n",
       "      <th>mrp</th>\n",
       "      <th>price</th>\n",
       "      <th>qty</th>\n",
       "      <th>source</th>\n",
       "      <th>day</th>\n",
       "      <th>month</th>\n",
       "      <th>dayofweek</th>\n",
       "      <th>weekend</th>\n",
       "      <th>total</th>\n",
       "      <th>discount</th>\n",
       "      <th>perc_discount</th>\n",
       "    </tr>\n",
       "  </thead>\n",
       "  <tbody>\n",
       "    <tr>\n",
       "      <th>10122</th>\n",
       "      <td>SKU0651</td>\n",
       "      <td>BRAND027</td>\n",
       "      <td>Cat04</td>\n",
       "      <td>BILL16591</td>\n",
       "      <td>5</td>\n",
       "      <td>2017-11-16</td>\n",
       "      <td>Sale</td>\n",
       "      <td>1.33</td>\n",
       "      <td>1.33</td>\n",
       "      <td>0</td>\n",
       "      <td>6</td>\n",
       "      <td>16</td>\n",
       "      <td>November</td>\n",
       "      <td>Thursday</td>\n",
       "      <td>0</td>\n",
       "      <td>0.0</td>\n",
       "      <td>0.0</td>\n",
       "      <td>0.0</td>\n",
       "    </tr>\n",
       "    <tr>\n",
       "      <th>10123</th>\n",
       "      <td>SKU0663</td>\n",
       "      <td>BRAND027</td>\n",
       "      <td>Cat04</td>\n",
       "      <td>BILL16591</td>\n",
       "      <td>5</td>\n",
       "      <td>2017-11-16</td>\n",
       "      <td>Sale</td>\n",
       "      <td>1.33</td>\n",
       "      <td>1.33</td>\n",
       "      <td>0</td>\n",
       "      <td>6</td>\n",
       "      <td>16</td>\n",
       "      <td>November</td>\n",
       "      <td>Thursday</td>\n",
       "      <td>0</td>\n",
       "      <td>0.0</td>\n",
       "      <td>0.0</td>\n",
       "      <td>0.0</td>\n",
       "    </tr>\n",
       "    <tr>\n",
       "      <th>10124</th>\n",
       "      <td>SKU0630</td>\n",
       "      <td>BRAND027</td>\n",
       "      <td>Cat04</td>\n",
       "      <td>BILL16591</td>\n",
       "      <td>5</td>\n",
       "      <td>2017-11-16</td>\n",
       "      <td>Sale</td>\n",
       "      <td>1.33</td>\n",
       "      <td>1.33</td>\n",
       "      <td>0</td>\n",
       "      <td>6</td>\n",
       "      <td>16</td>\n",
       "      <td>November</td>\n",
       "      <td>Thursday</td>\n",
       "      <td>0</td>\n",
       "      <td>0.0</td>\n",
       "      <td>0.0</td>\n",
       "      <td>0.0</td>\n",
       "    </tr>\n",
       "    <tr>\n",
       "      <th>10125</th>\n",
       "      <td>SKU0635</td>\n",
       "      <td>BRAND027</td>\n",
       "      <td>Cat04</td>\n",
       "      <td>BILL16591</td>\n",
       "      <td>5</td>\n",
       "      <td>2017-11-16</td>\n",
       "      <td>Sale</td>\n",
       "      <td>1.33</td>\n",
       "      <td>1.33</td>\n",
       "      <td>0</td>\n",
       "      <td>6</td>\n",
       "      <td>16</td>\n",
       "      <td>November</td>\n",
       "      <td>Thursday</td>\n",
       "      <td>0</td>\n",
       "      <td>0.0</td>\n",
       "      <td>0.0</td>\n",
       "      <td>0.0</td>\n",
       "    </tr>\n",
       "    <tr>\n",
       "      <th>10126</th>\n",
       "      <td>SKU0634</td>\n",
       "      <td>BRAND027</td>\n",
       "      <td>Cat04</td>\n",
       "      <td>BILL16591</td>\n",
       "      <td>5</td>\n",
       "      <td>2017-11-16</td>\n",
       "      <td>Sale</td>\n",
       "      <td>1.33</td>\n",
       "      <td>1.33</td>\n",
       "      <td>0</td>\n",
       "      <td>6</td>\n",
       "      <td>16</td>\n",
       "      <td>November</td>\n",
       "      <td>Thursday</td>\n",
       "      <td>0</td>\n",
       "      <td>0.0</td>\n",
       "      <td>0.0</td>\n",
       "      <td>0.0</td>\n",
       "    </tr>\n",
       "  </tbody>\n",
       "</table>\n",
       "</div>"
      ],
      "text/plain": [
       "           sku     brand    cat       bill store       date  type   mrp  \\\n",
       "10122  SKU0651  BRAND027  Cat04  BILL16591     5 2017-11-16  Sale  1.33   \n",
       "10123  SKU0663  BRAND027  Cat04  BILL16591     5 2017-11-16  Sale  1.33   \n",
       "10124  SKU0630  BRAND027  Cat04  BILL16591     5 2017-11-16  Sale  1.33   \n",
       "10125  SKU0635  BRAND027  Cat04  BILL16591     5 2017-11-16  Sale  1.33   \n",
       "10126  SKU0634  BRAND027  Cat04  BILL16591     5 2017-11-16  Sale  1.33   \n",
       "\n",
       "       price  qty source  day     month dayofweek  weekend  total  discount  \\\n",
       "10122   1.33    0      6   16  November  Thursday        0    0.0       0.0   \n",
       "10123   1.33    0      6   16  November  Thursday        0    0.0       0.0   \n",
       "10124   1.33    0      6   16  November  Thursday        0    0.0       0.0   \n",
       "10125   1.33    0      6   16  November  Thursday        0    0.0       0.0   \n",
       "10126   1.33    0      6   16  November  Thursday        0    0.0       0.0   \n",
       "\n",
       "       perc_discount  \n",
       "10122            0.0  \n",
       "10123            0.0  \n",
       "10124            0.0  \n",
       "10125            0.0  \n",
       "10126            0.0  "
      ]
     },
     "execution_count": 21,
     "metadata": {},
     "output_type": "execute_result"
    }
   ],
   "source": [
    "zero_qty = df[df['qty'] == 0]\n",
    "\n",
    "zero_qty.head()"
   ]
  },
  {
   "cell_type": "markdown",
   "metadata": {},
   "source": [
    "###### Answer - Zero quantity transactions don't make sense. Also, their MRP and price are equal (at 1.33), even though they are different SKUs. This suggests it is probably noise. So we remove these transactions. "
   ]
  },
  {
   "cell_type": "code",
   "execution_count": 22,
   "metadata": {},
   "outputs": [],
   "source": [
    "df = df[df['qty'] != 0]"
   ]
  },
  {
   "cell_type": "markdown",
   "metadata": {},
   "source": [
    "#     "
   ]
  },
  {
   "cell_type": "markdown",
   "metadata": {},
   "source": [
    "###### Question - Is there anything peculiar about the SKUs that are recorded as sold at zero quantity? "
   ]
  },
  {
   "cell_type": "code",
   "execution_count": 23,
   "metadata": {
    "scrolled": true
   },
   "outputs": [
    {
     "data": {
      "text/plain": [
       "array(['SKU0651', 'SKU0663', 'SKU0630', 'SKU0635', 'SKU0634', 'SKU0627',\n",
       "       'SKU0638', 'SKU0632', 'SKU0667', 'SKU0637', 'SKU0653', 'SKU0633',\n",
       "       'SKU0639', 'SKU0642', 'SKU0641', 'SKU0636', 'SKU0650', 'SKU0654',\n",
       "       'SKU0648', 'SKU2134'], dtype=object)"
      ]
     },
     "execution_count": 23,
     "metadata": {},
     "output_type": "execute_result"
    }
   ],
   "source": [
    "zero_qty_skus = zero_qty.sku.unique()\n",
    "\n",
    "zero_qty_skus"
   ]
  },
  {
   "cell_type": "code",
   "execution_count": 24,
   "metadata": {
    "scrolled": true
   },
   "outputs": [
    {
     "name": "stdout",
     "output_type": "stream",
     "text": [
      "Price:  {0.0, 1.33} Qty:  {1, 2, 3, 4, 5}\n",
      "Price:  {0.0, 1.33} Qty:  {1, 2, 3, 4, 7}\n",
      "Price:  {0.0, 1.33} Qty:  {1, 2, 3, 4, -1}\n",
      "Price:  {0.0, 1.33} Qty:  {1, 2, 3, 4, 5, 6, -1}\n",
      "Price:  {0.0, 1.33} Qty:  {1, 2, 3, 4, 5, -2, -1}\n",
      "Price:  {0.0, 1.33} Qty:  {1, 2, 3, 5}\n",
      "Price:  {0.0, 1.33} Qty:  {1, 2, 3, 4, 7, -1}\n",
      "Price:  {0.0, 1.33} Qty:  {1, 2, 3, -1}\n",
      "Price:  {0.0, 1.33} Qty:  {1, 2, 3, 4, 7}\n",
      "Price:  {0.0, 1.33} Qty:  {1, 2, 3, 4, 5}\n",
      "Price:  {0.0, 1.33} Qty:  {1, 2, 3, 4, 5, 6, -2, -1}\n",
      "Price:  {0.0, 1.33} Qty:  {1, 2, 3, 4, -1}\n",
      "Price:  {0.0, 1.33} Qty:  {1, 2, 3, 4, -1}\n",
      "Price:  {0.0, 1.33} Qty:  {1, 2, 3, 7}\n",
      "Price:  {0.0, 1.33} Qty:  {1, 2, 3, -1}\n",
      "Price:  {0.0, 1.33} Qty:  {1, 2, 3, 4, 5, 6, -4, -1}\n",
      "Price:  {0.0, 1.33} Qty:  {1, 2, 3, 4, 5, 6, 7}\n",
      "Price:  {0.0, 1.33} Qty:  {1, 2, 3, 4, 5, 6, 7}\n",
      "Price:  {0.0, 1.33} Qty:  {1, 2, 3}\n",
      "Price:  {0.0, 1.33} Qty:  {1, 2, 3, 4, -1}\n"
     ]
    }
   ],
   "source": [
    "for sku in zero_qty_skus:\n",
    "    print(\"Price: \", set(df[df['sku'] == sku]['price']),\n",
    "         \"Qty: \", set(df[df['sku'] == sku]['qty']))"
   ]
  },
  {
   "cell_type": "markdown",
   "metadata": {},
   "source": [
    "###### Answer - All of them are priced at either 0 or 1.33, and the quantity fluctuates. \n",
    "\n",
    "###### For further investigation we need more information about the SKUs from the source, but since this is an anonymous dataset, this is not possible. \n",
    "\n",
    "###### Hence, even though they appear to be noise (at a cursory glance), we retain these transactions for now."
   ]
  },
  {
   "cell_type": "markdown",
   "metadata": {},
   "source": [
    "#  "
   ]
  },
  {
   "cell_type": "markdown",
   "metadata": {},
   "source": [
    "We see if there is overcharging (where price is greater than MRP)"
   ]
  },
  {
   "cell_type": "code",
   "execution_count": 25,
   "metadata": {},
   "outputs": [
    {
     "name": "stdout",
     "output_type": "stream",
     "text": [
      "1665\n"
     ]
    },
    {
     "data": {
      "text/html": [
       "<div>\n",
       "<style scoped>\n",
       "    .dataframe tbody tr th:only-of-type {\n",
       "        vertical-align: middle;\n",
       "    }\n",
       "\n",
       "    .dataframe tbody tr th {\n",
       "        vertical-align: top;\n",
       "    }\n",
       "\n",
       "    .dataframe thead th {\n",
       "        text-align: right;\n",
       "    }\n",
       "</style>\n",
       "<table border=\"1\" class=\"dataframe\">\n",
       "  <thead>\n",
       "    <tr style=\"text-align: right;\">\n",
       "      <th></th>\n",
       "      <th>mrp</th>\n",
       "      <th>price</th>\n",
       "    </tr>\n",
       "  </thead>\n",
       "  <tbody>\n",
       "    <tr>\n",
       "      <th>11420</th>\n",
       "      <td>20.00</td>\n",
       "      <td>22.00</td>\n",
       "    </tr>\n",
       "    <tr>\n",
       "      <th>11428</th>\n",
       "      <td>22.00</td>\n",
       "      <td>24.00</td>\n",
       "    </tr>\n",
       "    <tr>\n",
       "      <th>11431</th>\n",
       "      <td>55.33</td>\n",
       "      <td>60.00</td>\n",
       "    </tr>\n",
       "    <tr>\n",
       "      <th>11432</th>\n",
       "      <td>88.00</td>\n",
       "      <td>96.00</td>\n",
       "    </tr>\n",
       "    <tr>\n",
       "      <th>11496</th>\n",
       "      <td>88.67</td>\n",
       "      <td>96.67</td>\n",
       "    </tr>\n",
       "  </tbody>\n",
       "</table>\n",
       "</div>"
      ],
      "text/plain": [
       "         mrp  price\n",
       "11420  20.00  22.00\n",
       "11428  22.00  24.00\n",
       "11431  55.33  60.00\n",
       "11432  88.00  96.00\n",
       "11496  88.67  96.67"
      ]
     },
     "execution_count": 25,
     "metadata": {},
     "output_type": "execute_result"
    }
   ],
   "source": [
    "overcharged = df[df['price'] > df['mrp'] ]\n",
    "\n",
    "print(overcharged.shape[0])\n",
    "\n",
    "overcharged[['mrp', 'price']].tail()"
   ]
  },
  {
   "cell_type": "markdown",
   "metadata": {},
   "source": [
    "Overcharging does happen on 1665 transactions. Some of these SKUs have MRP = 0.\n",
    "\n",
    "One possible explanation for this is that these SKUs were intended to be discounted, but were sold at a higher price, mistakenly or otherwise.\n",
    "\n",
    "For the sake of simplicity, we 'rectify' this issue by forcing the MRP to match the price (since price is what the customer has already paid). \n",
    "\n",
    "###### We assume the MRP was entered wrongly and so the discount is zero. Not recommended in an actual setting.  "
   ]
  },
  {
   "cell_type": "code",
   "execution_count": 26,
   "metadata": {},
   "outputs": [],
   "source": [
    "df['mrp'] = np.where(df.price > df.mrp, df.price, df.mrp)"
   ]
  },
  {
   "cell_type": "markdown",
   "metadata": {},
   "source": [
    "#   "
   ]
  },
  {
   "cell_type": "markdown",
   "metadata": {},
   "source": [
    "###### Some of the SKUs have MRP.= 0. We investigate it. "
   ]
  },
  {
   "cell_type": "code",
   "execution_count": 27,
   "metadata": {},
   "outputs": [],
   "source": [
    "zero_mrp = df[df['mrp'] == 0]\n",
    "\n",
    "zero_mrp_skus = zero_mrp.sku.unique().tolist() "
   ]
  },
  {
   "cell_type": "code",
   "execution_count": 28,
   "metadata": {},
   "outputs": [
    {
     "name": "stdout",
     "output_type": "stream",
     "text": [
      "699 transactions have zero MRP, which is recorded under 123 different SKUs.\n"
     ]
    }
   ],
   "source": [
    "print(\"{} transactions have zero MRP, which is recorded under {} different SKUs.\".format(zero_mrp.shape[0], len(zero_mrp_skus)))"
   ]
  },
  {
   "cell_type": "markdown",
   "metadata": {},
   "source": [
    "###### Question - Are these SKUs always sold for MRP = 0 every time?    "
   ]
  },
  {
   "cell_type": "code",
   "execution_count": 29,
   "metadata": {},
   "outputs": [
    {
     "data": {
      "text/plain": [
       "sku\n",
       "SKU3676    0.01\n",
       "Name: mrp, dtype: float64"
      ]
     },
     "execution_count": 29,
     "metadata": {},
     "output_type": "execute_result"
    }
   ],
   "source": [
    "zero_mrp_skus_avg_mrps = df[(df['sku'].isin(zero_mrp_skus)) & (df['mrp'] != 0)].groupby('sku')['mrp'].agg(lambda x : np.mean(x))\n",
    "\n",
    "zero_mrp_skus_avg_mrps"
   ]
  },
  {
   "cell_type": "markdown",
   "metadata": {},
   "source": [
    "###### Just one transaction with an MRP of 0.01. This is almost certainly an anomaly. \n",
    "\n",
    "###### So we can discard all MRPs that are 0. "
   ]
  },
  {
   "cell_type": "code",
   "execution_count": 32,
   "metadata": {},
   "outputs": [],
   "source": [
    "df =  df[df['mrp'] != 0]"
   ]
  },
  {
   "cell_type": "code",
   "execution_count": 33,
   "metadata": {},
   "outputs": [
    {
     "data": {
      "text/plain": [
       "sku              0\n",
       "brand            0\n",
       "cat              0\n",
       "bill             0\n",
       "store            0\n",
       "date             0\n",
       "type             0\n",
       "mrp              0\n",
       "price            0\n",
       "qty              0\n",
       "source           0\n",
       "day              0\n",
       "month            0\n",
       "dayofweek        0\n",
       "weekend          0\n",
       "total            0\n",
       "discount         0\n",
       "perc_discount    0\n",
       "dtype: int64"
      ]
     },
     "execution_count": 33,
     "metadata": {},
     "output_type": "execute_result"
    }
   ],
   "source": []
  },
  {
   "cell_type": "code",
   "execution_count": null,
   "metadata": {},
   "outputs": [],
   "source": []
  },
  {
   "cell_type": "code",
   "execution_count": null,
   "metadata": {},
   "outputs": [],
   "source": []
  },
  {
   "cell_type": "code",
   "execution_count": 30,
   "metadata": {},
   "outputs": [
    {
     "name": "stdout",
     "output_type": "stream",
     "text": [
      "Complete run\n"
     ]
    }
   ],
   "source": [
    "print(\"Complete run\")"
   ]
  }
 ],
 "metadata": {
  "kernelspec": {
   "display_name": "Python 3",
   "language": "python",
   "name": "python3"
  },
  "language_info": {
   "codemirror_mode": {
    "name": "ipython",
    "version": 3
   },
   "file_extension": ".py",
   "mimetype": "text/x-python",
   "name": "python",
   "nbconvert_exporter": "python",
   "pygments_lexer": "ipython3",
   "version": "3.6.7"
  }
 },
 "nbformat": 4,
 "nbformat_minor": 2
}
